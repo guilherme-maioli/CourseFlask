{
 "cells": [
  {
   "cell_type": "code",
   "execution_count": 2,
   "metadata": {},
   "outputs": [],
   "source": [
    "def header(function):\n",
    "    def decorator(nome):\n",
    "        print(\"### BEM VINDO AO MEU SITE ### \\n\")\n",
    "        return function(nome)\n",
    "    return decorator\n",
    "\n",
    "\n",
    "def footer(function):\n",
    "    def decorator(nome):\n",
    "        print(\"### COPYRIGHT - 2020 ###\")\n",
    "        return function(nome)\n",
    "    return decorator\n",
    "\n"
   ]
  },
  {
   "cell_type": "code",
   "execution_count": 7,
   "metadata": {},
   "outputs": [],
   "source": [
    "@footer\n",
    "@header\n",
    "def produto(nome):\n",
    "    print(f\"Produto: {nome} - R$ 2k\")"
   ]
  },
  {
   "cell_type": "code",
   "execution_count": 8,
   "metadata": {},
   "outputs": [
    {
     "name": "stdout",
     "output_type": "stream",
     "text": [
      "### COPYRIGHT - 2020 ###\n",
      "### BEM VINDO AO MEU SITE ###\n",
      "\n",
      "Produto: Cadeira - R$ 2k\n"
     ]
    }
   ],
   "source": [
    "produto(\"Cadeira\")"
   ]
  },
  {
   "cell_type": "code",
   "execution_count": null,
   "metadata": {},
   "outputs": [],
   "source": []
  }
 ],
 "metadata": {
  "kernelspec": {
   "display_name": "Python 3",
   "language": "python",
   "name": "python3"
  },
  "language_info": {
   "codemirror_mode": {
    "name": "ipython",
    "version": 3
   },
   "file_extension": ".py",
   "mimetype": "text/x-python",
   "name": "python",
   "nbconvert_exporter": "python",
   "pygments_lexer": "ipython3",
   "version": "3.7.6"
  }
 },
 "nbformat": 4,
 "nbformat_minor": 4
}
